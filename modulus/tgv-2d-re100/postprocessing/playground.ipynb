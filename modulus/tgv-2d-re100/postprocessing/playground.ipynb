{
 "cells": [
  {
   "cell_type": "code",
   "execution_count": 1,
   "metadata": {},
   "outputs": [],
   "source": [
    "import sys\n",
    "import itertools\n",
    "import pathlib\n",
    "import numpy\n",
    "import scipy.interpolate\n",
    "import ipywidgets\n",
    "import pandas\n",
    "from h5py import File as h5open\n",
    "from cycler import cycler\n",
    "from matplotlib import pyplot\n",
    "from matplotlib import colors\n",
    "from matplotlib import ticker\n",
    "from matplotlib.legend_handler import HandlerTuple"
   ]
  },
  {
   "cell_type": "code",
   "execution_count": 2,
   "metadata": {},
   "outputs": [],
   "source": [
    "# find helpers and locate workdir\n",
    "for parent in [pathlib.Path.cwd()] + list(pathlib.Path.cwd().parents):\n",
    "    if parent.joinpath(\"modulus\").is_dir():\n",
    "        projdir = parent\n",
    "        sys.path.insert(0, str(projdir.joinpath(\"modulus\")))\n",
    "        from helpers.utils import read_tensorboard_data  # pylint: disable=import-error\n",
    "        from helpers.lr_simulator import widget as lr_widget\n",
    "        from helpers.utils import log_parser  # pylint: disable=import-error\n",
    "        break\n",
    "else:\n",
    "    raise FileNotFoundError(\"Couldn't find module `helpers`.\")\n",
    "\n",
    "# point workdir to the correct folder\n",
    "workdir = projdir.joinpath(\"modulus\", \"tgv-2d-re100\")\n",
    "petibmdir = projdir.joinpath(\"petibm\", \"taylor-green-vortex-2d-re100\")\n",
    "figdir = workdir.joinpath(\"figures\")\n",
    "figdir.mkdir(exist_ok=True)"
   ]
  },
  {
   "cell_type": "code",
   "execution_count": 3,
   "metadata": {},
   "outputs": [],
   "source": [
    "# unified figure style\n",
    "pyplot.style.use(projdir.joinpath(\"resources\", \"figstyle\"))"
   ]
  },
  {
   "cell_type": "code",
   "execution_count": 4,
   "metadata": {},
   "outputs": [],
   "source": [
    "# parameters\n",
    "nls = [1, 2, 3]\n",
    "nns = [16, 32, 64, 128, 256]\n",
    "nbss = [1024, 2048, 4096, 8192, 16384, 32768, 65536]"
   ]
  },
  {
   "cell_type": "code",
   "execution_count": 85,
   "metadata": {},
   "outputs": [],
   "source": [
    "from re import I\n",
    "\n",
    "\n",
    "def get_best_med_worst_base_cases():\n",
    "    \"\"\"Get the cases with the best, median, and the worst errors.\n",
    "    \"\"\"\n",
    "    bestl2norm = float(\"inf\")\n",
    "    best = None\n",
    "    errs = []\n",
    "    cases = []\n",
    "    for nl, nn, nbs in itertools.product(nls, nns, nbss):\n",
    "        with h5open(workdir.joinpath(\"outputs\", \"base-cases\", f\"nl{nl}-nn{nn}-npts{nbs}-raw.h5\"), \"r\") as h5file:\n",
    "            errs.append(float(h5file[f\"sterrs/u/l2norm\"][...]))\n",
    "        cases.append((nl, nn, nbs))\n",
    "    \n",
    "    errs = numpy.array(errs)\n",
    "    cases = numpy.array(cases, dtype=object)\n",
    "\n",
    "    besterr = numpy.min(errs)\n",
    "    bestconf = cases[numpy.argmin(errs)]\n",
    "    worsterr = numpy.max(errs)\n",
    "    worstconf = cases[numpy.argmax(errs)]\n",
    "    mederr = numpy.median(errs)\n",
    "    medconf = cases[numpy.where(errs == mederr)[0][0]]\n",
    "    \n",
    "    return (besterr, bestconf), (mederr, medconf), (worsterr, worstconf)"
   ]
  },
  {
   "cell_type": "code",
   "execution_count": 6,
   "metadata": {},
   "outputs": [],
   "source": [
    "def get_worst_base_case():\n",
    "    \"\"\"Plot figures for the case performed the best for averaged spatial-temporal error.\n",
    "    \"\"\"\n",
    "    worstl2norm = - float(\"inf\")\n",
    "    worst = None\n",
    "    for nl, nn, nbs in itertools.product(nls, nns, nbss):\n",
    "        with h5open(workdir.joinpath(\"outputs\", \"base-cases\", f\"nl{nl}-nn{nn}-npts{nbs}-raw.h5\"), \"r\") as h5file:\n",
    "            err = float(h5file[f\"sterrs/u/l2norm\"][...])\n",
    "        \n",
    "        if err > worstl2norm:\n",
    "            worstl2norm = err\n",
    "            worst = (nl, nn, nbs)\n",
    "    return worst, worstl2norm"
   ]
  },
  {
   "cell_type": "code",
   "execution_count": 86,
   "metadata": {},
   "outputs": [
    {
     "name": "stdout",
     "output_type": "stream",
     "text": [
      "raw, (best case, err): 0.00832254538297106, [3 256 4096]\n",
      "raw, (median case, err): 0.1381084722210188, [2 32 65536]\n",
      "raw, (worst case, err): 0.3108040850982813, [1 32 16384]\n"
     ]
    }
   ],
   "source": [
    "(besterr, bestconf), (mederr, medconf), (worsterr, worstconf) = get_best_med_worst_base_cases()\n",
    "print(f\"raw, (best case, err): {besterr}, {bestconf}\")\n",
    "print(f\"raw, (median case, err): {mederr}, {medconf}\")\n",
    "print(f\"raw, (worst case, err): {worsterr}, {worstconf}\")"
   ]
  },
  {
   "cell_type": "code",
   "execution_count": 65,
   "metadata": {},
   "outputs": [],
   "source": [
    "def plot_base_case_training_history(workdir, h5dir, figdir, nl, nn, nbs, ws):\n",
    "    \"\"\"Plot figures related to training loss and spatial-temporal errors.\n",
    "    \"\"\"\n",
    "\n",
    "    data = log_parser(workdir.joinpath(f\"nl{nl}-nn{nn}-npts{nbs}\"))\n",
    "\n",
    "    with h5open(h5dir.joinpath(f\"nl{nl}-nn{nn}-npts{nbs}-raw.h5\"), \"r\") as h5file:\n",
    "        errsteps = h5file[\"walltime/steps\"][...]\n",
    "        errtimes = h5file[\"walltime/elapsedtimes\"][...]\n",
    "        err = [\n",
    "            h5file[\"walltime/l2norms/u/0.0\"][...],\n",
    "            h5file[\"walltime/l2norms/u/40.0\"][...],\n",
    "            h5file[\"walltime/l2norms/u/80.0\"][...],\n",
    "        ]\n",
    "\n",
    "    # plot according to optimizer type\n",
    "    fig, ax = pyplot.subplots(1, 1, sharex=False, sharey=False, figsize=(8, 4))\n",
    "    fig.suptitle(rf\"2D TGV, $Re=100$, $(N_l, N_n, N_{{bs}})=({nl}, {nn}, {nbs})$\")\n",
    "    \n",
    "    # loss against steps\n",
    "    ax.set_title(\"Training loss and solution errors v.s. iterations\")\n",
    "    l1, = ax.semilogy(data.index, data.loss, alpha=0.3, lw=0.5, label=\"Raw data\")\n",
    "    l2, = ax.semilogy(data.index, data.loss.rolling(window=ws).mean(), lw=1.5, label=\"Moving avg.\")\n",
    "    l3, = ax.semilogy(data.index, data.loss.rolling(window=ws).min(), lw=1.5, label=\"Moving min.\")\n",
    "    l4, = ax.semilogy(errsteps, err[0], lw=1, ls=\"--\", label=r\"$t=0$\")\n",
    "    l5, = ax.semilogy(errsteps, err[1], lw=1, ls=\"--\", label=r\"$t=40$\")\n",
    "    l6, = ax.semilogy(errsteps, err[2], lw=1, ls=\"--\", label=r\"$t=80$\")\n",
    "    ax.set_xlabel(\"Iteration\")\n",
    "    ax.set_ylabel(r\"Loss or $L_2$ error\")\n",
    "    ax.grid()\n",
    "    \n",
    "    # legends\n",
    "    lgd1 = ax.legend(\n",
    "        handles=[l1, l2, l3], title=\"Aggregated loss\",\n",
    "        loc=\"upper right\", bbox_to_anchor=(0.99, 0.99)\n",
    "    )\n",
    "    lgd2 = ax.legend(\n",
    "        handles=[l4, l5, l6], title=r\"$L_2$ error of $u$\",\n",
    "        loc=\"upper right\", bbox_to_anchor=(0.79, 0.99)\n",
    "    )\n",
    "    ax.add_artist(lgd1)\n",
    "\n",
    "    # time axis / errors\n",
    "    axerr = ax.twiny()\n",
    "    axerr.semilogy(errtimes, err[0], lw=0)  # dummy line to set x-axis limits\n",
    "    axerr.spines[\"bottom\"].set_position((\"axes\", -0.3))\n",
    "    axerr.spines[\"bottom\"].set_visible(True)\n",
    "    axerr.xaxis.set_label_position(\"bottom\")\n",
    "    axerr.xaxis.set_ticks_position(\"bottom\")\n",
    "    axerr.set_xlabel(\"Run time (hours)\")\n",
    "    axerr.get_xaxis().set_ticks_position(\"bottom\")\n",
    "\n",
    "    # save\n",
    "    figdir.joinpath(\"training-hist\").mkdir(parents=True, exist_ok=True)\n",
    "    fig.savefig(figdir.joinpath(\"training-hist\", f\"nl{nl}-nn{nn}-npts{nbs}.png\"))\n",
    "    # pyplot.close(fig)"
   ]
  },
  {
   "cell_type": "code",
   "execution_count": 66,
   "metadata": {},
   "outputs": [
    {
     "data": {
      "application/vnd.jupyter.widget-view+json": {
       "model_id": "f6cbc0ebfd3446c2a087faa904377bb1",
       "version_major": 2,
       "version_minor": 0
      },
      "text/plain": [
       "VBox(children=(Dropdown(index=2, options=(1, 2, 3), value=3), Dropdown(index=4, options=(16, 32, 64, 128, 256)…"
      ]
     },
     "metadata": {},
     "output_type": "display_data"
    }
   ],
   "source": [
    "# plot case training history\n",
    "option1 = ipywidgets.Dropdown(options=nls, value=3)\n",
    "option2 = ipywidgets.Dropdown(options=nns, value=256)\n",
    "option3 = ipywidgets.Dropdown(options=nbss, value=1024)\n",
    "option4 = ipywidgets.IntSlider(value=10, min=1, max=200, step=2, orientation=\"horizontal\") \n",
    "canvas = ipywidgets.interactive_output(\n",
    "    plot_base_case_training_history,\n",
    "    {\n",
    "        \"workdir\": ipywidgets.fixed(workdir.joinpath(\"base-cases\")),\n",
    "        \"h5dir\": ipywidgets.fixed(workdir.joinpath(\"outputs\", \"base-cases\")),\n",
    "        \"figdir\": ipywidgets.fixed(figdir.joinpath(\"base-cases\")),\n",
    "        \"nl\": option1, \"nn\": option2, \"nbs\": option3, \"ws\": option4,\n",
    "    }\n",
    ")\n",
    "\n",
    "out = ipywidgets.VBox([option1, option2, option3, option4, canvas])\n",
    "display(out)"
   ]
  },
  {
   "cell_type": "code",
   "execution_count": 88,
   "metadata": {},
   "outputs": [],
   "source": [
    "def plot_base_case_contour(nl, nn, nbs, time, workdir, figdir):\n",
    "    \"\"\"Plot figures for the case performed the best at t=40.\n",
    "    \"\"\"\n",
    "\n",
    "    with h5open(workdir.joinpath(f\"nl{nl}-nn{nn}-npts{nbs}-raw.h5\"), \"r\") as h5file:\n",
    "        coords = (h5file[\"field/x\"][...], h5file[\"field/y\"][...])\n",
    "\n",
    "        vals = {\n",
    "            r\"$u$\": h5file[f\"field/{time}/u\"][...],\n",
    "            r\"$v$\": h5file[f\"field/{time}/v\"][...],\n",
    "            r\"$p$\": h5file[f\"field/{time}/p\"][...],\n",
    "            r\"$\\omega_z$\": h5file[f\"field/{time}/vorticity_z\"][...],\n",
    "        }\n",
    "\n",
    "        errs = {\n",
    "            r\"$u$\": h5file[f\"field/{time}/err-u\"][...],\n",
    "            r\"$v$\": h5file[f\"field/{time}/err-v\"][...],\n",
    "            r\"$p$\": h5file[f\"field/{time}/err-p\"][...],\n",
    "            r\"$\\omega_z$\": h5file[f\"field/{time}/err-vorticity_z\"][...],\n",
    "        }\n",
    "\n",
    "    # re-cal. the pressure w/ the mean from analytical soln. as it is assumed to have a constant shift\n",
    "    ptrue = numpy.exp(-4.*0.01*float(time)) * (numpy.cos(2.*coords[0]) + numpy.cos(2.*coords[1])) / 4.\n",
    "    vals[r\"$p$\"] = vals[r\"$p$\"] - vals[r\"$p$\"].mean()\n",
    "    errs[r\"$p$\"] = abs(vals[r\"$p$\"] - ptrue)\n",
    "\n",
    "    fig, axs = pyplot.subplots(4, 2, sharex=True, sharey=True, figsize=(8.5, 13))\n",
    "\n",
    "    fig.suptitle(\n",
    "        rf\"Flow and errors, TGV 2D@$t={float(time)}$, $Re=100$, \"+\"\\n\" +\n",
    "        rf\"$(N_l, N_n, N_{{bs}})=({nl}, {nn}, {nbs})$\"\n",
    "    )\n",
    "\n",
    "    for i, field in enumerate([r\"$u$\", r\"$v$\", r\"$p$\", r\"$\\omega_z$\"]):\n",
    "        # field values\n",
    "        ct = axs[i, 0].contourf(*coords, vals[field], 16)\n",
    "        axs[i, 0].set_aspect(\"equal\")\n",
    "        axs[i, 0].set_title(field)\n",
    "        fig.colorbar(ct, ax=axs[i, 0])\n",
    "\n",
    "        # errors\n",
    "        ct = axs[i, 1].contourf(\n",
    "            *coords, errs[field], 16,\n",
    "            norm=colors.LogNorm(vmin=errs[field].min(), vmax=errs[field].max())\n",
    "        )\n",
    "        axs[i, 1].set_aspect(\"equal\")\n",
    "        axs[i, 1].set_title(f\"Absolute error, {field}\")\n",
    "        fmt = ticker.LogFormatter()                                                                                     \n",
    "        cbar = fig.colorbar(ct, ax=axs[i, 1], format=fmt)\n",
    "    \n",
    "    axs[0, 0].set_ylabel(r\"$y$\")\n",
    "    axs[1, 0].set_ylabel(r\"$y$\")\n",
    "    axs[2, 0].set_ylabel(r\"$y$\")\n",
    "    axs[3, 0].set_ylabel(r\"$y$\")\n",
    "    axs[3, 0].set_xlabel(r\"$x$\")\n",
    "    axs[3, 1].set_xlabel(r\"$x$\")\n",
    "\n",
    "    figdir.joinpath(\"contours\").mkdir(parents=True, exist_ok=True)\n",
    "    pyplot.savefig(figdir.joinpath(\"contours\", f\"nl{nl}-nn{nn}-npts{nbs}-t{time}.png\"))"
   ]
  },
  {
   "cell_type": "code",
   "execution_count": 89,
   "metadata": {},
   "outputs": [
    {
     "data": {
      "application/vnd.jupyter.widget-view+json": {
       "model_id": "0387993c14b8416583b3812888c3fa04",
       "version_major": 2,
       "version_minor": 0
      },
      "text/plain": [
       "VBox(children=(Dropdown(index=2, options=(1, 2, 3), value=3), Dropdown(index=4, options=(16, 32, 64, 128, 256)…"
      ]
     },
     "metadata": {},
     "output_type": "display_data"
    }
   ],
   "source": [
    "# plot contours for cases\n",
    "option1 = ipywidgets.Dropdown(options=nls, value=3)\n",
    "option2 = ipywidgets.Dropdown(options=nns, value=256)\n",
    "option3 = ipywidgets.Dropdown(options=nbss, value=1024)\n",
    "option4 = ipywidgets.Dropdown(options=[\"0.0\", \"40.0\", \"80.0\"], value=\"40.0\")\n",
    "canvas = ipywidgets.interactive_output(\n",
    "    plot_base_case_contour,\n",
    "    {\n",
    "        \"nl\": option1, \"nn\": option2, \"nbs\": option3, \"time\": option4,\n",
    "        \"workdir\": ipywidgets.fixed(workdir.joinpath(\"outputs\", \"base-cases\")),\n",
    "        \"figdir\": ipywidgets.fixed(figdir.joinpath(\"base-cases\"))\n",
    "    }\n",
    ")\n",
    "display(ipywidgets.VBox([option1, option2, option3, option4, canvas]))"
   ]
  },
  {
   "cell_type": "code",
   "execution_count": 90,
   "metadata": {},
   "outputs": [],
   "source": [
    "def plot_err_arch_boxplot(field, workdir, figdir):\n",
    "    \"\"\"plot_err_arch_boxplot\n",
    "    \"\"\"\n",
    "    data = {\"nl\": [], \"nn\": [], \"nbs\": [], \"l2norm\": []}\n",
    "    for nl, nn, nbs in itertools.product(nls, nns, nbss):\n",
    "        data[\"nl\"].append(nl)\n",
    "        data[\"nn\"].append(nn)\n",
    "        data[\"nbs\"].append(nbs)\n",
    "        with h5open(workdir.joinpath(f\"nl{nl}-nn{nn}-npts{nbs}-raw.h5\"), \"r\") as h5file:\n",
    "            data[\"l2norm\"].append(float(h5file[f\"sterrs/{field}/l2norm\"][...]))\n",
    "\n",
    "    data = pandas.DataFrame(data)\n",
    "    data = data.pivot(index=\"nbs\", columns=[\"nl\", \"nn\"], values=\"l2norm\")\n",
    "    data = data[data.mean().sort_values(ascending=False).index]\n",
    "\n",
    "    fig, ax = pyplot.subplots(1, 1)\n",
    "    fig.suptitle(r\"Error distribution across network architectures\")\n",
    "\n",
    "    ax.boxplot(\n",
    "        data.values, labels=data.columns, showmeans=True,\n",
    "        meanprops={\"marker\": \".\", \"mfc\": \"k\", \"mec\": \"k\"},\n",
    "        medianprops={\"ls\": \"none\"},\n",
    "    )\n",
    "    ax.tick_params(axis=\"x\", labelrotation=45)\n",
    "    ax.set_xlabel(r\"$(N_l, N_n)$\")\n",
    "    ax.set_ylabel(rf\"$L_2$-norm of ${field}$\")\n",
    "    ax.set_yscale(\"log\")\n",
    "\n",
    "    figdir.joinpath(\"err-vs-arch\").mkdir(parents=True, exist_ok=True)\n",
    "    fig.savefig(figdir.joinpath(\"err-vs-arch\", f\"err-arch-boxplot-{field}.png\"))"
   ]
  },
  {
   "cell_type": "code",
   "execution_count": 92,
   "metadata": {},
   "outputs": [
    {
     "data": {
      "application/vnd.jupyter.widget-view+json": {
       "model_id": "a27f67a81730436799468a17b63a7001",
       "version_major": 2,
       "version_minor": 0
      },
      "text/plain": [
       "HBox(children=(Output(), Dropdown(description='Velocity', options=('u', 'v'), value='u')))"
      ]
     },
     "metadata": {},
     "output_type": "display_data"
    }
   ],
   "source": [
    "# plot error vs. network arch\n",
    "option1 = ipywidgets.Dropdown(options=[\"u\", \"v\"], value=\"u\", description=\"Velocity\")\n",
    "canvas = ipywidgets.interactive_output(\n",
    "    plot_err_arch_boxplot,\n",
    "    {\n",
    "        \"field\": option1,\n",
    "        \"workdir\": ipywidgets.fixed(workdir.joinpath(\"outputs\", \"base-cases\")),\n",
    "        \"figdir\": ipywidgets.fixed(figdir.joinpath(\"base-cases\"))\n",
    "    }\n",
    ")\n",
    "out = ipywidgets.HBox([canvas, option1])\n",
    "display(out)"
   ]
  },
  {
   "cell_type": "code",
   "execution_count": 96,
   "metadata": {},
   "outputs": [
    {
     "data": {
      "text/plain": [
       "34563"
      ]
     },
     "execution_count": 96,
     "metadata": {},
     "output_type": "execute_result"
    }
   ],
   "source": [
    "def dof_calculator(nl, nn, dim=2, unsteady=True, periodic=True):\n",
    "    \"\"\"Degree of freedom calculator.\n",
    "    \"\"\"\n",
    "    ninp = dim + int(unsteady) + 2 * int(periodic)\n",
    "    dof = ninp * nn + 2 * nn\n",
    "    dof += (nn**2 + 2 * nn) * (nl - 1)\n",
    "    dof += (nn + 1) * (dim + 1) \n",
    "    return dof"
   ]
  },
  {
   "cell_type": "code",
   "execution_count": 116,
   "metadata": {},
   "outputs": [
    {
     "name": "stdout",
     "output_type": "stream",
     "text": [
      "dofs     163       323       451       643       739       1283      1411    \\\n",
      "nbs                                                                           \n",
      "1024   0.306828  0.308421  0.308273  0.305086  0.205081  0.304455  0.180026   \n",
      "2048   0.310451  0.309692  0.308818  0.305589  0.289769  0.306305  0.207736   \n",
      "4096   0.306599  0.310460  0.306982  0.306574  0.220198  0.298597  0.107979   \n",
      "8192   0.309194  0.307541  0.307407  0.307287  0.302942  0.289407  0.216887   \n",
      "16384  0.309923  0.310804  0.308187  0.307641  0.306397  0.293620  0.121877   \n",
      "32768  0.307441  0.308706  0.307983  0.305914  0.307573  0.305106  0.116708   \n",
      "65536  0.308511  0.309357  0.307545  0.306308  0.225712  0.303419  0.138108   \n",
      "\n",
      "dofs     2499      2563      4867      9091      17923     34563     68611   \\\n",
      "nbs                                                                           \n",
      "1024   0.057610  0.283306  0.039645  0.020087  0.019361  0.014656  0.013667   \n",
      "2048   0.055210  0.279008  0.048219  0.022351  0.016628  0.011890  0.009675   \n",
      "4096   0.070251  0.284106  0.053182  0.022541  0.023343  0.011648  0.022761   \n",
      "8192   0.050225  0.285555  0.030614  0.019096  0.012798  0.013906  0.023174   \n",
      "16384  0.035648  0.263584  0.050818  0.022051  0.019654  0.013059  0.025392   \n",
      "32768  0.039961  0.286384  0.042536  0.025295  0.014287  0.018147  0.023975   \n",
      "65536  0.041077  0.288101  0.033893  0.021547  0.014537  0.011497  0.020069   \n",
      "\n",
      "dofs     134659  \n",
      "nbs              \n",
      "1024   0.011412  \n",
      "2048   0.011919  \n",
      "4096   0.008323  \n",
      "8192   0.010511  \n",
      "16384  0.010473  \n",
      "32768  0.013827  \n",
      "65536  0.015038  \n"
     ]
    },
    {
     "data": {
      "image/png": "[encoded data removed]",
      "text/plain": [
       "<Figure size 432x288 with 1 Axes>"
      ]
     },
     "metadata": {
      "needs_background": "light"
     },
     "output_type": "display_data"
    }
   ],
   "source": [
    "def plot_dof_err(field, workdir, figdir):\n",
    "    \"\"\"plot_dof_err\n",
    "    \"\"\"\n",
    "    data = {\"dofs\": [], \"l2norm\": [], \"nbs\": []}\n",
    "    for nl, nn, nbs in itertools.product(nls, nns, nbss):\n",
    "        data[\"nbs\"].append(nbs)\n",
    "        data[\"dofs\"].append(dof_calculator(nl, nn, 2, True, True))\n",
    "        with h5open(workdir.joinpath(f\"nl{nl}-nn{nn}-npts{nbs}-raw.h5\"), \"r\") as h5file:\n",
    "            data[\"l2norm\"].append(float(h5file[f\"sterrs/{field}/l2norm\"][...]))\n",
    "\n",
    "    data = pandas.DataFrame(data)\n",
    "    data = data.pivot(index=\"nbs\", columns=[\"dofs\"], values=\"l2norm\")\n",
    "    data = data.sort_index(axis=1)\n",
    "\n",
    "    # box widths on the plot with log x axis\n",
    "    width = lambda p, w: 10**(numpy.log10(p)+w/2.)-10**(numpy.log10(p)-w/2.)\n",
    "\n",
    "    fig, ax = pyplot.subplots(1, 1)\n",
    "    fig.suptitle(r\"Error distributions v.s. degrees of freedom\")\n",
    "\n",
    "    ax.boxplot(\n",
    "        data.values, labels=data.columns, positions=data.columns,\n",
    "        showmeans=True, widths=width(data.columns, 1),\n",
    "        meanprops={\"marker\": \".\", \"mfc\": \"k\", \"mec\": \"k\"},\n",
    "        medianprops={\"ls\": \"none\"},\n",
    "    )\n",
    "\n",
    "    ax.set_xlabel(\"Degree of freedom\")\n",
    "    ax.set_xscale(\"log\")\n",
    "\n",
    "    ax.set_ylabel(rf\"$L_2$-norm of ${field}$\")\n",
    "    ax.set_yscale(\"log\")\n",
    "\n",
    "    # figdir.joinpath(\"err-vs-arch\").mkdir(parents=True, exist_ok=True)\n",
    "    # fig.savefig(figdir.joinpath(\"err-vs-arch\", f\"err-arch-boxplot-{field}.png\"))\n",
    "\n",
    "plot_dof_err(\"u\", workdir.joinpath(\"outputs\", \"base-cases\"), figdir.joinpath(\"base-cases\"))"
   ]
  },
  {
   "cell_type": "code",
   "execution_count": 14,
   "metadata": {},
   "outputs": [],
   "source": [
    "# display(lr_widget())"
   ]
  }
 ],
 "metadata": {
  "kernelspec": {
   "display_name": "Python 3.8.13 ('modulus')",
   "language": "python",
   "name": "python3"
  },
  "language_info": {
   "codemirror_mode": {
    "name": "ipython",
    "version": 3
   },
   "file_extension": ".py",
   "mimetype": "text/x-python",
   "name": "python",
   "nbconvert_exporter": "python",
   "pygments_lexer": "ipython3",
   "version": "3.8.13"
  },
  "orig_nbformat": 4,
  "vscode": {
   "interpreter": {
    "hash": "88d2f06bb247d746ec823ea9336c693995af707d84c221c7086d89f854987291"
   }
  }
 },
 "nbformat": 4,
 "nbformat_minor": 2
}
